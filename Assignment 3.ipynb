{
 "cells": [
  {
   "cell_type": "code",
   "execution_count": 7,
   "metadata": {},
   "outputs": [],
   "source": [
    "import math\n",
    "\n",
    "nos=[3,5,7,1,2,9,5,7,7]\n",
    "Sum=sum(nos)\n",
    "cnt=len(nos)\n"
   ]
  },
  {
   "cell_type": "code",
   "execution_count": 8,
   "metadata": {},
   "outputs": [
    {
     "name": "stdout",
     "output_type": "stream",
     "text": [
      "THIS IS MEAN:  5.111111111111111\n"
     ]
    }
   ],
   "source": [
    "#MEAN\n",
    "Mean=Sum/cnt\n",
    "print(\"THIS IS MEAN: \",Mean)"
   ]
  },
  {
   "cell_type": "code",
   "execution_count": 9,
   "metadata": {},
   "outputs": [
    {
     "name": "stdout",
     "output_type": "stream",
     "text": [
      "[1, 2, 3, 5, 5, 7, 7, 7, 9]\n",
      "THIS IS MEDIAN: 5\n"
     ]
    }
   ],
   "source": [
    "#MEDIAN\n",
    "nos.sort()\n",
    "print(nos)\n",
    " \n",
    "if len(nos) % 2 == 0:\n",
    "    median1 = nos[len(nos)//2]\n",
    "    median2 = nos[len(nos)//2 - 1]\n",
    "    Median = (median1 + median2)/2\n",
    "    print(\"THIS IS MEDIAN: \" ,Median)\n",
    "\n",
    "else:\n",
    "     Median = nos[len(nos)//2]\n",
    "     print(\"THIS IS MEDIAN:\",Median)"
   ]
  },
  {
   "cell_type": "code",
   "execution_count": 10,
   "metadata": {},
   "outputs": [
    {
     "name": "stdout",
     "output_type": "stream",
     "text": [
      "this is sum of Xi-MEAN [-4.111111111111111, -3.1111111111111107, -2.1111111111111107, -0.11111111111111072, -0.11111111111111072, 1.8888888888888893, 1.8888888888888893, 1.8888888888888893, 3.8888888888888893]\n",
      "THIS IS SQAURE OF ELEMENTS:  [16.90123456790123, 9.67901234567901, 4.456790123456789, 0.012345679012345592, 0.012345679012345592, 3.567901234567903, 3.567901234567903, 3.567901234567903, 15.12345679012346]\n",
      "this is summation Xi-Mean:  56.888888888888886\n",
      "THIS IS standard deviation:  2.5141574442188355\n"
     ]
    }
   ],
   "source": [
    "#STANDARD DEVIATION\n",
    "SD2=[]\n",
    "for i in range (len(nos)):\n",
    "    #total = total + list1[ele]\n",
    "\n",
    "    SD1=(nos[i]-Mean)\n",
    "    SD2.append(SD1)\n",
    "    \n",
    "print(\"this is sum of Xi-MEAN\",SD2)\n",
    "\n",
    "SD4=[]\n",
    "for i in range (len(SD2)):\n",
    "    SD3=SD2[i]**2\n",
    "    SD4.append(SD3)\n",
    "print(\"THIS IS SQAURE OF ELEMENTS: \",SD4)\n",
    "SD5=sum(SD4)\n",
    "print(\"this is summation Xi-Mean: \",SD5)\n",
    "SD6=SD5/cnt\n",
    "SD7=math.sqrt(SD6)\n",
    "\n",
    "\n",
    "   \n",
    "    \n",
    "# SD2=SD1*SD1\n",
    "# SD4=math.sqrt(SD2)/cnt\n",
    "# print(SD2)\n",
    "# print(SD3)\n",
    "print(\"THIS IS standard deviation: \",SD7)"
   ]
  },
  {
   "cell_type": "code",
   "execution_count": 11,
   "metadata": {},
   "outputs": [
    {
     "name": "stdout",
     "output_type": "stream",
     "text": [
      "THIS IS MODE:  7\n",
      "THIS IS VARIANCE:  6.320987654320986\n"
     ]
    }
   ],
   "source": [
    "#MODE\n",
    "count = 0\n",
    "#no = nos[0]\n",
    "#for loop \n",
    "for i in  nos:\n",
    "    current_freq = nos.count(i)\n",
    "    if (current_freq > count):\n",
    "        count = current_freq\n",
    "        num = i\n",
    "        \n",
    "print(\"THIS IS MODE: \",num)\n",
    "\n",
    "#VARIANCE\n",
    "\n",
    "var=SD7**2 #cause variance is square of standard deviation\n",
    "print(\"THIS IS VARIANCE: \",var)"
   ]
  },
  {
   "cell_type": "code",
   "execution_count": null,
   "metadata": {},
   "outputs": [],
   "source": []
  }
 ],
 "metadata": {
  "colab": {
   "provenance": []
  },
  "kernelspec": {
   "display_name": "Python 3 (ipykernel)",
   "language": "python",
   "name": "python3"
  },
  "language_info": {
   "codemirror_mode": {
    "name": "ipython",
    "version": 3
   },
   "file_extension": ".py",
   "mimetype": "text/x-python",
   "name": "python",
   "nbconvert_exporter": "python",
   "pygments_lexer": "ipython3",
   "version": "3.10.9"
  }
 },
 "nbformat": 4,
 "nbformat_minor": 1
}
