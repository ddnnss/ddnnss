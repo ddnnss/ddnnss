{
 "cells": [
  {
   "cell_type": "code",
   "execution_count": 3,
   "id": "bc4b758b",
   "metadata": {},
   "outputs": [
    {
     "name": "stdout",
     "output_type": "stream",
     "text": [
      "{'collectionFetched': True, 'collectionsList': ['crop_production', 'Contact Information (Responses) - Form responses 1', 'javascipt', 'STUDENT DATASET - Form Responses 1(2)', 'news', 'Copy of amazon', 'Job_Placement_Data', 'Student_Mental_health', 'Hotel Reservations', 'movie_reviews']}\n",
      "['crop_production', 'Contact Information (Responses) - Form responses 1', 'javascipt', 'STUDENT DATASET - Form Responses 1(2)', 'news', 'Copy of amazon', 'Job_Placement_Data', 'Student_Mental_health', 'Hotel Reservations', 'movie_reviews']\n"
     ]
    }
   ],
   "source": [
    "import requests\n",
    "\n",
    "response = requests.get(\"https://actual-dataset-api.onrender.com/getCollections\")\n",
    "\n",
    "if response.status_code == 200:\n",
    "    data = response.json() \n",
    "    print(data)\n",
    "    print(data['collectionsList'])\n",
    "else:\n",
    "    print(\"Request failed with status code:\", response.status_code)"
   ]
  },
  {
   "cell_type": "code",
   "execution_count": 4,
   "id": "be9d154c",
   "metadata": {},
   "outputs": [
    {
     "name": "stdout",
     "output_type": "stream",
     "text": [
      "{'columnsFetched': True, 'columnsList': ['Timestamp', 'Name', 'Email', 'Address', 'Phone number', 'Comments']}\n"
     ]
    }
   ],
   "source": [
    "import requests\n",
    "response = requests.get(\"https://actual-dataset-api.onrender.com/getColumns/Contact Information (Responses) - Form responses 1\")\n",
    "\n",
    "if response.status_code == 200:\n",
    "    data = response.json() \n",
    "    print(data)\n",
    "else:\n",
    "    print(\"Request failed with status code:\", response.status_code)"
   ]
  },
  {
   "cell_type": "code",
   "execution_count": null,
   "id": "5c86b695",
   "metadata": {},
   "outputs": [],
   "source": []
  }
 ],
 "metadata": {
  "kernelspec": {
   "display_name": "Python 3 (ipykernel)",
   "language": "python",
   "name": "python3"
  },
  "language_info": {
   "codemirror_mode": {
    "name": "ipython",
    "version": 3
   },
   "file_extension": ".py",
   "mimetype": "text/x-python",
   "name": "python",
   "nbconvert_exporter": "python",
   "pygments_lexer": "ipython3",
   "version": "3.10.9"
  }
 },
 "nbformat": 4,
 "nbformat_minor": 5
}
